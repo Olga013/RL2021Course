{
 "cells": [
  {
   "cell_type": "code",
   "execution_count": 1,
   "metadata": {},
   "outputs": [],
   "source": [
    "import gym\n",
    "\n",
    "import matplotlib as mpl\n",
    "import matplotlib.pyplot as plt\n",
    "#import seaborn as sns\n",
    "import json\n",
    "from tqdm import tqdm\n",
    "import math\n",
    "import random\n",
    "import numpy as np\n",
    "import scipy as sp\n",
    "import scipy.stats as st\n",
    "import scipy.integrate as integrate\n",
    "from scipy.stats import multivariate_normal\n",
    "from sklearn import linear_model\n",
    "#from sklearn.utils.testing import ignore_warnings\n",
    "from sklearn.exceptions import ConvergenceWarning\n",
    "#import statsmodels.api as sm\n",
    "from matplotlib.colors import LogNorm\n",
    "import pickle\n",
    "\n",
    "from joblib import Parallel, delayed\n",
    "import multiprocessing\n",
    "from collections import namedtuple\n",
    "from itertools import count\n",
    "\n",
    "import cProfile\n",
    "from datetime import datetime\n",
    "\n",
    "import torch\n",
    "import torch.nn as nn\n",
    "import torch.optim as optim\n",
    "import torch.nn.functional as F\n",
    "import torchvision.transforms as T\n",
    "from torch.autograd import Variable\n",
    "\n",
    "#sns.set_style(\"whitegrid\")\n",
    "#sns.set_palette(\"colorblind\")\n",
    "#palette = sns.color_palette()\n",
    "#figsize = (15,8)\n",
    "#legend_fontsize = 16\n",
    "\n",
    "#from matplotlib import rc\n",
    "#rc('font',**{'family':'sans-serif'})\n",
    "#rc('text', usetex=True)\n",
    "#rc('text.latex',preamble=r'\\usepackage[utf8]{inputenc}')\n",
    "#rc('text.latex',preamble=r'\\usepackage[russian]{babel}')\n",
    "#rc('figure', **{'dpi': 300})"
   ]
  },
  {
   "cell_type": "markdown",
   "metadata": {},
   "source": [
    "## TicTacToe"
   ]
  },
  {
   "cell_type": "code",
   "execution_count": 2,
   "metadata": {},
   "outputs": [],
   "source": [
    "N_ROWS, N_COLS, N_WIN = 3, 3, 3"
   ]
  },
  {
   "cell_type": "code",
   "execution_count": 3,
   "metadata": {},
   "outputs": [],
   "source": [
    "class TicTacToe(gym.Env):\n",
    "    def __init__(self, n_rows=N_ROWS, n_cols=N_COLS, n_win=N_WIN, clone=None):\n",
    "        if clone is not None:\n",
    "            self.n_rows, self.n_cols, self.n_win = clone.n_rows, clone.n_cols, clone.n_win\n",
    "            self.board = copy.deepcopy(clone.board)\n",
    "            self.curTurn = clone.curTurn\n",
    "            self.emptySpaces = None\n",
    "            self.boardHash = None\n",
    "        else:\n",
    "            self.n_rows = n_rows\n",
    "            self.n_cols = n_cols\n",
    "            self.n_win = n_win\n",
    "\n",
    "            self.reset()\n",
    "\n",
    "    def getEmptySpaces(self):\n",
    "        if self.emptySpaces is None:\n",
    "            res = np.where(self.board == 0)\n",
    "            self.emptySpaces = np.array([ (i, j) for i,j in zip(res[0], res[1]) ])\n",
    "        return self.emptySpaces\n",
    "\n",
    "    def makeMove(self, player, i, j):\n",
    "        self.board[i, j] = player\n",
    "        self.emptySpaces = None\n",
    "        self.boardHash = None\n",
    "\n",
    "    def getHash(self):\n",
    "        if self.boardHash is None:\n",
    "            self.boardHash = ''.join(['%s' % (x+1) for x in self.board.reshape(self.n_rows * self.n_cols)])\n",
    "        return self.boardHash\n",
    "\n",
    "    def isTerminal(self):\n",
    "        #\n",
    "        cur_marks, cur_p = np.where(self.board == self.curTurn), self.curTurn\n",
    "        for i,j in zip(cur_marks[0], cur_marks[1]):\n",
    "            win = False\n",
    "            if i <= self.n_rows - self.n_win:\n",
    "                if np.all(self.board[i:i+self.n_win, j] == cur_p):\n",
    "                    win = True\n",
    "            if not win:\n",
    "                if j <= self.n_cols - self.n_win:\n",
    "                    if np.all(self.board[i,j:j+self.n_win] == cur_p):\n",
    "                        win = True\n",
    "            if not win:\n",
    "                if i <= self.n_rows - self.n_win and j <= self.n_cols - self.n_win:\n",
    "                    if np.all(np.array([ self.board[i+k,j+k] == cur_p for k in range(self.n_win) ])):\n",
    "                        win = True\n",
    "            if not win:\n",
    "                if i <= self.n_rows - self.n_win and j >= self.n_win-1:\n",
    "                    if np.all(np.array([ self.board[i+k,j-k] == cur_p for k in range(self.n_win) ])):\n",
    "                        win = True\n",
    "            if win:\n",
    "                self.gameOver = True\n",
    "                return self.curTurn\n",
    "\n",
    "        if len(self.getEmptySpaces()) == 0:\n",
    "            self.gameOver = True\n",
    "            return 0\n",
    "\n",
    "        self.gameOver = False\n",
    "        return None\n",
    "\n",
    "    def printBoard(self):\n",
    "        for i in range(0, self.n_rows):\n",
    "            print('----'*(self.n_cols)+'-')\n",
    "            out = '| '\n",
    "            for j in range(0, self.n_cols):\n",
    "                if self.board[i, j] == 1:\n",
    "                    token = 'x'\n",
    "                if self.board[i, j] == -1:\n",
    "                    token = 'o'\n",
    "                if self.board[i, j] == 0:\n",
    "                    token = ' '\n",
    "                out += token + ' | '\n",
    "            print(out)\n",
    "        print('----'*(self.n_cols)+'-')\n",
    "\n",
    "    def getState(self):\n",
    "        return (self.getHash(), self.getEmptySpaces(), self.curTurn)\n",
    "\n",
    "    def action_from_int(self, action_int):\n",
    "        return ( int(action_int / self.n_cols), int(action_int % self.n_cols))\n",
    "\n",
    "    def int_from_action(self, action):\n",
    "        return action[0] * self.n_cols + action[1]\n",
    "    \n",
    "    def step(self, action):\n",
    "        if self.board[action[0], action[1]] != 0:\n",
    "            return self.getState(), -10, True, {}\n",
    "        self.makeMove(self.curTurn, action[0], action[1])\n",
    "        reward = self.isTerminal()\n",
    "        self.curTurn = -self.curTurn\n",
    "        return self.getState(), 0 if reward is None else reward, reward is not None, {}\n",
    "\n",
    "    def reset(self):\n",
    "        self.board = np.zeros((self.n_rows, self.n_cols), dtype=int)\n",
    "        self.boardHash = None\n",
    "        self.gameOver = False\n",
    "        self.emptySpaces = None\n",
    "        self.curTurn = 1"
   ]
  },
  {
   "cell_type": "code",
   "execution_count": 4,
   "metadata": {},
   "outputs": [],
   "source": [
    "class pi():\n",
    "    def __init__(self, ):\n",
    "        self.Q = {}\n",
    "        self.hist = []\n",
    "    def getActionGreedy(self, s, num_a, actions):\n",
    "        max_v = -np.inf\n",
    "        acts = set()\n",
    "        for i in range(num_a):\n",
    "            if ( not s in self.Q.keys()) or (not env.int_from_action(actions[i]) in self.Q[s].keys()):\n",
    "                v = 0\n",
    "            else:\n",
    "                v = self.Q[s][env.int_from_action(actions[i])]\n",
    "            if max_v < v:\n",
    "                max_v = v\n",
    "                acts = set([i])\n",
    "            elif max_v == v:\n",
    "                acts.add(i)\n",
    "            \n",
    "        acts = list(acts)\n",
    "        if len(acts) > 1:\n",
    "            a_idx = np.random.randint(0, len(acts) - 1)\n",
    "        else:\n",
    "            a_idx = 0\n",
    "            \n",
    "        self.hist.append((s, env.int_from_action(actions[acts[a_idx]])))\n",
    "        return acts[a_idx]\n",
    "        \n",
    "    def update(self, rew, alpha=0.5, gamma=0.9):\n",
    "        #for s in self.Q.keys():\n",
    "        for i in range(len(self.hist) - 1, 0, -1):\n",
    "            s, a = self.hist[i]\n",
    "            if not s in self.Q.keys():\n",
    "                self.Q[s] = {}\n",
    "            if not a in self.Q[s].keys():\n",
    "                self.Q[s][a] = 0\n",
    "        \n",
    "            self.Q[s][a] += alpha * (gamma * rew - self.Q[s][a])\n",
    "            rew = self.Q[s][a]\n",
    "    def reset(self):\n",
    "        self.hist = []"
   ]
  },
  {
   "cell_type": "code",
   "execution_count": 5,
   "metadata": {},
   "outputs": [],
   "source": [
    "def plot_board(env, pi, showtext=True, verbose=True, fontq=20, fontx=60):\n",
    "    \"Рисуем доску с оценками из стратегии pi\"\n",
    "    fig, ax = plt.subplots(1, 1, figsize=(10, 10))\n",
    "    X, Y = np.meshgrid(np.arange(0, env.n_rows), np.arange(0, env.n_rows))\n",
    "    Z = np.zeros((env.n_rows, env.n_cols)) + .01\n",
    "    s, actions = env.getHash(), env.getEmptySpaces()\n",
    "    if pi is not None and s in pi.Q:\n",
    "        for i, a in enumerate(actions):\n",
    "            Z[a[0], a[1]] = pi.Q[s][i]\n",
    "    ax.set_xticks([])\n",
    "    ax.set_yticks([])\n",
    "    surf = ax.imshow(Z, cmap=plt.get_cmap('Accent', 10), vmin=-1, vmax=1)\n",
    "    if showtext:\n",
    "        for i,a in enumerate(actions):\n",
    "            if pi is not None and s in pi.Q:\n",
    "                ax.text( a[1] , a[0] , \"%.3f\" % pi.Q[s][i], fontsize=fontq, horizontalalignment='center', verticalalignment='center', color=\"w\" )\n",
    "    for i in range(env.n_rows):\n",
    "        for j in range(env.n_cols):\n",
    "            if env.board[i, j] == -1:\n",
    "                ax.text(j, i, \"O\", fontsize=fontx, horizontalalignment='center', verticalalignment='center', color=\"w\" )\n",
    "            if env.board[i, j] == 1:\n",
    "                ax.text(j, i, \"X\", fontsize=fontx, horizontalalignment='center', verticalalignment='center', color=\"w\" )\n",
    "#     cbar = plt.colorbar(surf, ticks=[0, 1])\n",
    "    ax.grid(False)\n",
    "    plt.show()\n",
    "\n",
    "def get_and_print_move(env, pi, s, actions, plot=False, random=False, verbose=True, fontq=20, fontx=60):\n",
    "    if plot!=False:\n",
    "        \"Делаем ход, рисуем доску\"\n",
    "        plot_board(env, pi, fontq=fontq, fontx=fontx)\n",
    "    if verbose and (pi is not None):\n",
    "        if s in pi.Q:\n",
    "            for i,a in enumerate(actions):\n",
    "                if not i in pi.Q[s]:\n",
    "                    v = 0\n",
    "                else:\n",
    "                    v = pi.Q[s][i]\n",
    "                print(i, a, v)\n",
    "        else:\n",
    "            print(\"Стратегия не знает, что делать\")\n",
    "    if random:\n",
    "        return np.random.randint(len(actions))\n",
    "    else:\n",
    "        return pi.getActionGreedy(s, len(actions), actions)"
   ]
  },
  {
   "cell_type": "code",
   "execution_count": 6,
   "metadata": {},
   "outputs": [],
   "source": [
    "def plot_test_game(env, pi1, pi2, random_crosses=False, random_naughts=True, plot=False, verbose=True, fontq=20, fontx=60):\n",
    "    \"Играем тестовую партию между стратегиями или со случайными ходами, рисуем ход игры\"\n",
    "    done = False\n",
    "    env.reset()\n",
    "    while not done:\n",
    "        s, actions = env.getHash(), env.getEmptySpaces()\n",
    "        if env.curTurn == 1:\n",
    "            a = get_and_print_move(env, pi1, s, actions, random=random_crosses, verbose=verbose, fontq=fontq, fontx=fontx)\n",
    "        else:\n",
    "            a = get_and_print_move(env, pi2, s, actions, random=random_naughts, verbose=verbose, fontq=fontq, fontx=fontx)\n",
    "        observation, reward, done, info = env.step(actions[a])\n",
    "        if reward == 1:\n",
    "            if plot!=False:\n",
    "                print(\"Крестики выиграли!\")\n",
    "                plot_board(env, None, showtext=False, fontq=fontq, fontx=fontx)\n",
    "        if reward == -1:\n",
    "            if plot!=False:\n",
    "                print(\"Нолики выиграли!\")\n",
    "                plot_board(env, None, showtext=False, fontq=fontq, fontx=fontx)\n",
    "    return reward"
   ]
  },
  {
   "cell_type": "code",
   "execution_count": 7,
   "metadata": {},
   "outputs": [],
   "source": [
    "def plot_Q_game(env, pi1, pi2, random_crosses=False, random_naughts=True, plot=False, verbose=True, fontq=20, fontx=60):\n",
    "    \"Играем тестовую партию между стратегиями или со случайными ходами, рисуем ход игры\"\n",
    "    done = False\n",
    "    env.reset()\n",
    "    if pi1 != None:\n",
    "        pi1.reset()\n",
    "    if pi2 != None:\n",
    "        pi2.reset()\n",
    "    \n",
    "    while not done:\n",
    "        s, actions = env.getHash(), env.getEmptySpaces()\n",
    "        if env.curTurn == 1:\n",
    "            a = get_and_print_move(env, pi1, s, actions, random=random_crosses, verbose=verbose, fontq=fontq, fontx=fontx)\n",
    "        else:\n",
    "            a = get_and_print_move(env, pi2, s, actions, random=random_naughts, verbose=verbose, fontq=fontq, fontx=fontx)\n",
    "        observation, reward, done, info = env.step(actions[a])\n",
    "        if reward == 1:\n",
    "            if pi1 != None:\n",
    "                pi1.update(1)\n",
    "            if pi2 != None:\n",
    "                pi2.update(-1)\n",
    "            if plot!=False:\n",
    "                print(\"Крестики выиграли!\")\n",
    "                plot_board(env, None, showtext=False, fontq=fontq, fontx=fontx)\n",
    "            \n",
    "        if reward == -1:\n",
    "            if pi1 != None:\n",
    "                pi1.update(-1)\n",
    "            if pi2 != None:\n",
    "                pi2.update(1)\n",
    "            if plot!=False:\n",
    "                print(\"Нолики выиграли!\")\n",
    "                plot_board(env, None, showtext=False, fontq=fontq, fontx=fontx)\n",
    "    return reward"
   ]
  },
  {
   "cell_type": "code",
   "execution_count": 8,
   "metadata": {},
   "outputs": [],
   "source": [
    "def moving_average(a, n=100):\n",
    "    ret = np.cumsum(a, dtype=float)\n",
    "    ret[n:] = ret[n:] - ret[:-n]\n",
    "    return ret[n - 1:] / n"
   ]
  },
  {
   "cell_type": "markdown",
   "metadata": {},
   "source": [
    "# 3x3"
   ]
  },
  {
   "cell_type": "code",
   "execution_count": 16,
   "metadata": {},
   "outputs": [
    {
     "name": "stderr",
     "output_type": "stream",
     "text": [
      "100%|███████████████████████████████████| 10000/10000 [00:07<00:00, 1375.65it/s]\n"
     ]
    }
   ],
   "source": [
    "env = TicTacToe(n_rows=3, n_cols=3, n_win=3)\n",
    "n_epochs = 10000\n",
    "reward_rand = []\n",
    "for epoch in tqdm(range(n_epochs)):\n",
    "    reward_rand.append(plot_test_game(env, None, None, random_crosses=True, random_naughts=True, verbose=True, fontx=60))"
   ]
  },
  {
   "cell_type": "code",
   "execution_count": 17,
   "metadata": {},
   "outputs": [
    {
     "name": "stderr",
     "output_type": "stream",
     "text": [
      "100%|███████████████████████████████████| 10000/10000 [00:09<00:00, 1055.33it/s]\n"
     ]
    }
   ],
   "source": [
    "pi1 = pi()\n",
    "pi2 = pi()\n",
    "env = TicTacToe(n_rows=3, n_cols=3, n_win=3)\n",
    "n_epochs = 10000\n",
    "reward_pi_xy= []\n",
    "for epoch in tqdm(range(n_epochs)):\n",
    "    reward_pi_xy.append(plot_Q_game(env, pi1, pi2, random_crosses=False, random_naughts=False, verbose=False, fontx=60))"
   ]
  },
  {
   "cell_type": "code",
   "execution_count": 18,
   "metadata": {},
   "outputs": [
    {
     "name": "stderr",
     "output_type": "stream",
     "text": [
      "100%|███████████████████████████████████| 10000/10000 [00:06<00:00, 1617.86it/s]\n"
     ]
    }
   ],
   "source": [
    "pi1 = pi()\n",
    "pi2 = pi()\n",
    "env = TicTacToe(n_rows=3, n_cols=3, n_win=3)\n",
    "n_epochs = 10000\n",
    "reward_pi_x= []\n",
    "for epoch in tqdm(range(n_epochs)):\n",
    "    reward_pi_x.append(plot_Q_game(env, pi1, None, random_crosses=False, random_naughts=True, verbose=False, fontx=60))"
   ]
  },
  {
   "cell_type": "code",
   "execution_count": 19,
   "metadata": {},
   "outputs": [
    {
     "name": "stderr",
     "output_type": "stream",
     "text": [
      "100%|███████████████████████████████████| 10000/10000 [00:06<00:00, 1499.31it/s]\n"
     ]
    }
   ],
   "source": [
    "pi1 = pi()\n",
    "pi2 = pi()\n",
    "env = TicTacToe(n_rows=3, n_cols=3, n_win=3)\n",
    "n_epochs = 10000\n",
    "reward_pi_y= []\n",
    "for epoch in tqdm(range(n_epochs)):\n",
    "    reward_pi_y.append(plot_Q_game(env, None, pi2, random_crosses=True, random_naughts=False, verbose=False, fontx=60))"
   ]
  },
  {
   "cell_type": "code",
   "execution_count": 20,
   "metadata": {},
   "outputs": [
    {
     "data": {
      "text/plain": [
       "<matplotlib.legend.Legend at 0x14250afa0>"
      ]
     },
     "execution_count": 20,
     "metadata": {},
     "output_type": "execute_result"
    },
    {
     "data": {
      "image/png": "[encoded data removed]",
      "text/plain": [
       "<Figure size 432x288 with 1 Axes>"
      ]
     },
     "metadata": {
      "needs_background": "light"
     },
     "output_type": "display_data"
    }
   ],
   "source": [
    "plt.title('game reward, 3x3')\n",
    "plt.plot(moving_average(reward_rand), label='rand')\n",
    "plt.plot(moving_average(reward_pi_x), label='x-Q, o-rand')\n",
    "plt.plot(moving_average(reward_pi_y), label='x-rand, o-Q')\n",
    "plt.plot(moving_average(reward_pi_xy), label='x-Q, o-Q')\n",
    "plt.legend()"
   ]
  },
  {
   "cell_type": "markdown",
   "metadata": {},
   "source": [
    "# 4x4"
   ]
  },
  {
   "cell_type": "code",
   "execution_count": 12,
   "metadata": {},
   "outputs": [
    {
     "name": "stderr",
     "output_type": "stream",
     "text": [
      "100%|██████████████████████████████████| 100000/100000 [02:42<00:00, 614.07it/s]\n"
     ]
    }
   ],
   "source": [
    "env = TicTacToe(n_rows=4, n_cols=4, n_win=4)\n",
    "n_epochs = 100000\n",
    "reward_rand = []\n",
    "for epoch in tqdm(range(n_epochs)):\n",
    "    reward_rand.append(plot_test_game(env, None, None, random_crosses=True, random_naughts=True, verbose=True, fontx=60))"
   ]
  },
  {
   "cell_type": "code",
   "execution_count": 9,
   "metadata": {},
   "outputs": [
    {
     "name": "stderr",
     "output_type": "stream",
     "text": [
      "100%|██████████████████████████████████| 100000/100000 [03:09<00:00, 528.31it/s]\n"
     ]
    }
   ],
   "source": [
    "pi1 = pi()\n",
    "pi2 = pi()\n",
    "env = TicTacToe(n_rows=4, n_cols=4, n_win=4)\n",
    "n_epochs = 100000\n",
    "reward_pi_xy= []\n",
    "for epoch in tqdm(range(n_epochs)):\n",
    "    reward_pi_xy.append(plot_Q_game(env, pi1, pi2, random_crosses=False, random_naughts=False, verbose=False, fontx=60))"
   ]
  },
  {
   "cell_type": "code",
   "execution_count": 13,
   "metadata": {},
   "outputs": [
    {
     "name": "stderr",
     "output_type": "stream",
     "text": [
      "100%|██████████████████████████████████| 100000/100000 [03:05<00:00, 539.94it/s]\n"
     ]
    }
   ],
   "source": [
    "pi1 = pi()\n",
    "pi2 = pi()\n",
    "env = TicTacToe(n_rows=4, n_cols=4, n_win=4)\n",
    "n_epochs = 100000\n",
    "reward_pi_x= []\n",
    "for epoch in tqdm(range(n_epochs)):\n",
    "    reward_pi_x.append(plot_Q_game(env, pi1, None, random_crosses=False, random_naughts=True, verbose=False, fontx=60))"
   ]
  },
  {
   "cell_type": "code",
   "execution_count": 14,
   "metadata": {},
   "outputs": [
    {
     "name": "stderr",
     "output_type": "stream",
     "text": [
      "100%|██████████████████████████████████| 100000/100000 [02:55<00:00, 568.20it/s]\n"
     ]
    }
   ],
   "source": [
    "pi1 = pi()\n",
    "pi2 = pi()\n",
    "env = TicTacToe(n_rows=4, n_cols=4, n_win=4)\n",
    "n_epochs = 100000\n",
    "reward_pi_y= []\n",
    "for epoch in tqdm(range(n_epochs)):\n",
    "    reward_pi_y.append(plot_Q_game(env, None, pi2, random_crosses=True, random_naughts=False, verbose=False, fontx=60))"
   ]
  },
  {
   "cell_type": "code",
   "execution_count": 15,
   "metadata": {},
   "outputs": [
    {
     "data": {
      "text/plain": [
       "<matplotlib.legend.Legend at 0x1425020d0>"
      ]
     },
     "execution_count": 15,
     "metadata": {},
     "output_type": "execute_result"
    },
    {
     "data": {
      "image/png": "[encoded data removed]",
      "text/plain": [
       "<Figure size 432x288 with 1 Axes>"
      ]
     },
     "metadata": {
      "needs_background": "light"
     },
     "output_type": "display_data"
    }
   ],
   "source": [
    "plt.title('game reward, 4x4')\n",
    "plt.plot(moving_average(reward_rand, 1000), label='rand')\n",
    "plt.plot(moving_average(reward_pi_x, 1000), label='x-Q, o-rand')\n",
    "plt.plot(moving_average(reward_pi_y, 1000), label='x-rand, o-Q')\n",
    "plt.plot(moving_average(reward_pi_xy, 1000), label='x-Q, o-Q')\n",
    "plt.legend()"
   ]
  },
  {
   "cell_type": "code",
   "execution_count": null,
   "metadata": {},
   "outputs": [],
   "source": []
  }
 ],
 "metadata": {
  "kernelspec": {
   "display_name": "Python 3 (ipykernel)",
   "language": "python",
   "name": "python3"
  },
  "language_info": {
   "codemirror_mode": {
    "name": "ipython",
    "version": 3
   },
   "file_extension": ".py",
   "mimetype": "text/x-python",
   "name": "python",
   "nbconvert_exporter": "python",
   "pygments_lexer": "ipython3",
   "version": "3.9.9"
  }
 },
 "nbformat": 4,
 "nbformat_minor": 4
}
